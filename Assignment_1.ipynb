{
  "nbformat": 4,
  "nbformat_minor": 0,
  "metadata": {
    "colab": {
      "provenance": []
    },
    "kernelspec": {
      "name": "python3",
      "display_name": "Python 3"
    },
    "language_info": {
      "name": "python"
    }
  },
  "cells": [
    {
      "cell_type": "markdown",
      "source": [
        "Assignment 1.1"
      ],
      "metadata": {
        "id": "W1O7ZCrV5J0x"
      }
    },
    {
      "cell_type": "code",
      "execution_count": 1,
      "metadata": {
        "colab": {
          "base_uri": "https://localhost:8080/"
        },
        "id": "Sr_0NmoZ47Vw",
        "outputId": "05d16017-ec12-437c-c889-815187fe0bf0"
      },
      "outputs": [
        {
          "output_type": "stream",
          "name": "stdout",
          "text": [
            "Vijayshree Vaibhav\n",
            "Vijayshree Vaibhav\n",
            "Vijayshree Vaibhav\n"
          ]
        }
      ],
      "source": [
        "for i in range(3):\n",
        "    print(\"Vijayshree Vaibhav\")\n"
      ]
    },
    {
      "cell_type": "markdown",
      "source": [
        "Assingment 2.1: WAP to add three numbers and print the result."
      ],
      "metadata": {
        "id": "vlBp6_kY5U94"
      }
    },
    {
      "cell_type": "code",
      "source": [
        "a=20;\n",
        "b=50;\n",
        "c=6;\n",
        "d= a+b+c;\n",
        "print(f\"{a}+{b}+{c} --> {d}\")"
      ],
      "metadata": {
        "colab": {
          "base_uri": "https://localhost:8080/"
        },
        "id": "sMY8-Iku5R4-",
        "outputId": "4e442d5b-935b-46e6-aedc-00dfa4eec474"
      },
      "execution_count": 3,
      "outputs": [
        {
          "output_type": "stream",
          "name": "stdout",
          "text": [
            "20+50+6 --> 76\n"
          ]
        }
      ]
    },
    {
      "cell_type": "markdown",
      "source": [
        "Assingment 2.2: WAP to concatinate three strings and print the result.\n",
        "\n"
      ],
      "metadata": {
        "id": "4r9s_Z7m6Q32"
      }
    },
    {
      "cell_type": "code",
      "source": [
        "a= \"hello\";\n",
        "b=\"Im\";\n",
        "c= \"Vijayshree\";\n",
        "d=a+b+c;\n",
        "print(f\"{a}+{b}+{c} --> {d}\")"
      ],
      "metadata": {
        "colab": {
          "base_uri": "https://localhost:8080/"
        },
        "id": "J_iq5iGh6T5I",
        "outputId": "0b995238-fdd8-47dc-deca-7a9d9ffe9b95"
      },
      "execution_count": 4,
      "outputs": [
        {
          "output_type": "stream",
          "name": "stdout",
          "text": [
            "hello+Im+Vijayshree --> helloImVijayshree\n"
          ]
        }
      ]
    },
    {
      "cell_type": "markdown",
      "source": [
        "Assingment 4.1: WAP to print the table of 7, 9.\n",
        "\n"
      ],
      "metadata": {
        "id": "9Zf5QODS6heF"
      }
    },
    {
      "cell_type": "code",
      "source": [
        "for i in range(11):\n",
        "    print(f\"7 X {i} = {7*i}\")\n"
      ],
      "metadata": {
        "colab": {
          "base_uri": "https://localhost:8080/"
        },
        "id": "f_SfY21B6jb-",
        "outputId": "f41a95cf-0be6-4936-ace5-2ddd5aa0d619"
      },
      "execution_count": 5,
      "outputs": [
        {
          "output_type": "stream",
          "name": "stdout",
          "text": [
            "7 X 0 = 0\n",
            "7 X 1 = 7\n",
            "7 X 2 = 14\n",
            "7 X 3 = 21\n",
            "7 X 4 = 28\n",
            "7 X 5 = 35\n",
            "7 X 6 = 42\n",
            "7 X 7 = 49\n",
            "7 X 8 = 56\n",
            "7 X 9 = 63\n",
            "7 X 10 = 70\n"
          ]
        }
      ]
    },
    {
      "cell_type": "code",
      "source": [
        "for i in range(11):\n",
        "    print(f\"9 X {i} = {9*i}\")\n"
      ],
      "metadata": {
        "colab": {
          "base_uri": "https://localhost:8080/"
        },
        "id": "qtzumGlm6tPU",
        "outputId": "e5833f9e-1766-4091-c60b-4413a1ba27f6"
      },
      "execution_count": 7,
      "outputs": [
        {
          "output_type": "stream",
          "name": "stdout",
          "text": [
            "9 X 0 = 0\n",
            "9 X 1 = 9\n",
            "9 X 2 = 18\n",
            "9 X 3 = 27\n",
            "9 X 4 = 36\n",
            "9 X 5 = 45\n",
            "9 X 6 = 54\n",
            "9 X 7 = 63\n",
            "9 X 8 = 72\n",
            "9 X 9 = 81\n",
            "9 X 10 = 90\n"
          ]
        }
      ]
    },
    {
      "cell_type": "markdown",
      "source": [
        "Assingment 4.2: WAP to print the table of n and n is given by user.\n",
        "\n"
      ],
      "metadata": {
        "id": "pcQ84so56pQW"
      }
    },
    {
      "cell_type": "code",
      "source": [
        "n = int(input(\"Enter the number\"))\n",
        "for i in range(11):\n",
        "    print(f\"{n} X {i} = {n*i}\")\n"
      ],
      "metadata": {
        "colab": {
          "base_uri": "https://localhost:8080/"
        },
        "id": "iZ5lpU0I7UsU",
        "outputId": "48ad7200-00d0-4303-cf29-b2fccc2f44b0"
      },
      "execution_count": 8,
      "outputs": [
        {
          "output_type": "stream",
          "name": "stdout",
          "text": [
            "Enter the number12\n",
            "12 X 0 = 0\n",
            "12 X 1 = 12\n",
            "12 X 2 = 24\n",
            "12 X 3 = 36\n",
            "12 X 4 = 48\n",
            "12 X 5 = 60\n",
            "12 X 6 = 72\n",
            "12 X 7 = 84\n",
            "12 X 8 = 96\n",
            "12 X 9 = 108\n",
            "12 X 10 = 120\n"
          ]
        }
      ]
    },
    {
      "cell_type": "markdown",
      "source": [
        "Assingment 4.3: WAP to add all the numbers from 1 to n and n is given by user.\n",
        "\n"
      ],
      "metadata": {
        "id": "dZIeDYQg7lrU"
      }
    },
    {
      "cell_type": "code",
      "source": [
        "n = int(input(\"Enter the number\"))\n",
        "result = n*(n+1)/2\n",
        "print(result)\n"
      ],
      "metadata": {
        "colab": {
          "base_uri": "https://localhost:8080/"
        },
        "id": "UGQDN-4m7qpb",
        "outputId": "5b390ff9-e3e0-4ba1-e55b-8aa2d9bbe308"
      },
      "execution_count": 9,
      "outputs": [
        {
          "output_type": "stream",
          "name": "stdout",
          "text": [
            "Enter the number16\n",
            "136.0\n"
          ]
        }
      ]
    },
    {
      "cell_type": "markdown",
      "source": [
        "Assingment 5.1: WAP to find max amoung three numbers and input from user. [Try max() function]\n"
      ],
      "metadata": {
        "id": "Vl_tfV8h7vx0"
      }
    },
    {
      "cell_type": "code",
      "source": [
        "list1 = []\n",
        "for i in range(3):\n",
        "    list1.append(int(input(f\"Enter the {i}th number\")))\n",
        "print(list1)\n",
        "print(max(list1))\n"
      ],
      "metadata": {
        "colab": {
          "base_uri": "https://localhost:8080/"
        },
        "id": "OWsspNlK713A",
        "outputId": "23a03395-c84b-4e93-9a56-c8ed3a21dbc1"
      },
      "execution_count": 10,
      "outputs": [
        {
          "output_type": "stream",
          "name": "stdout",
          "text": [
            "Enter the 0th number1\n",
            "Enter the 1th number5\n",
            "Enter the 2th number8\n",
            "[1, 5, 8]\n",
            "8\n"
          ]
        }
      ]
    },
    {
      "cell_type": "markdown",
      "source": [
        "Assingment 5.2: WAP to add all numbers divisible by 7 and 9 from 1 to n and n is given by the user.\n",
        "\n"
      ],
      "metadata": {
        "id": "gIE26Sbo7_Y0"
      }
    },
    {
      "cell_type": "code",
      "source": [
        "n = int(input(\"Enter a No: \"))\n",
        "sum=0\n",
        "for i in range(n+1):\n",
        "    if(i%7==0 or i%9==0):\n",
        "        sum+=i\n",
        "print(sum)\n"
      ],
      "metadata": {
        "colab": {
          "base_uri": "https://localhost:8080/"
        },
        "id": "pnHlwgYJ8AbP",
        "outputId": "e5ced615-4096-4d8e-c79f-3fd5b2a4161e"
      },
      "execution_count": 11,
      "outputs": [
        {
          "output_type": "stream",
          "name": "stdout",
          "text": [
            "Enter a No: 4\n",
            "0\n"
          ]
        }
      ]
    },
    {
      "cell_type": "markdown",
      "source": [
        "Assingment 5.3: WAP to add all prime numbers from 1 to n and n is given by the user.\n",
        "\n"
      ],
      "metadata": {
        "id": "wfNlFbAt8Fqi"
      }
    },
    {
      "cell_type": "code",
      "source": [
        "n = int(input(\"Enter a No: \"))\n",
        "sum =0\n",
        "for i in range(2, n+1):\n",
        "    flag =0\n",
        "    for div in range(2, int(i**0.5) + 1):\n",
        "    \tif  i%div == 0:\n",
        "    \t\tflag =1\n",
        "    \t\tbreak\n",
        "    if flag ==0:\n",
        "    \tsum+=i\n",
        "print(sum)"
      ],
      "metadata": {
        "colab": {
          "base_uri": "https://localhost:8080/"
        },
        "id": "NooEDnLs8Hqh",
        "outputId": "5f077eed-1062-4731-b199-68437d78e1bd"
      },
      "execution_count": 12,
      "outputs": [
        {
          "output_type": "stream",
          "name": "stdout",
          "text": [
            "Enter a No: 8\n",
            "17\n"
          ]
        }
      ]
    },
    {
      "cell_type": "markdown",
      "source": [
        "Assingment 6.1: WAP using function that add all odd numbers from 1 to n, n is given by the user.\n",
        "\n"
      ],
      "metadata": {
        "id": "kk6k8Qn_8LTe"
      }
    },
    {
      "cell_type": "code",
      "source": [
        "def oddAdder(n):\n",
        "    sum=0\n",
        "    for i in range(n+1):\n",
        "        if(i%2!=0):\n",
        "            sum+=i\n",
        "    return sum\n",
        "result = oddAdder(5)\n",
        "print(result)"
      ],
      "metadata": {
        "colab": {
          "base_uri": "https://localhost:8080/"
        },
        "id": "QMIPrWWZ8OJ3",
        "outputId": "0a5447d8-6750-4c16-fa7b-73c4d9e45989"
      },
      "execution_count": 13,
      "outputs": [
        {
          "output_type": "stream",
          "name": "stdout",
          "text": [
            "9\n"
          ]
        }
      ]
    },
    {
      "cell_type": "markdown",
      "source": [
        "Assingment 6.2: WAP using function that add all prime numbers from 1 to n, n given by the user.\n",
        "\n"
      ],
      "metadata": {
        "id": "as_Fsvp58Rgu"
      }
    },
    {
      "cell_type": "code",
      "source": [
        "def oddAdder(n):\n",
        "    sum=0\n",
        "    for i in range(2, n+1):\n",
        "        flag=0\n",
        "        for div in range(2, int(i**0.5)+1):\n",
        "            if(i%div==0):\n",
        "                flag=1\n",
        "                break\n",
        "        if(flag==0):\n",
        "            sum+=i\n",
        "    return sum\n",
        "result = oddAdder(5)\n",
        "print(result)"
      ],
      "metadata": {
        "colab": {
          "base_uri": "https://localhost:8080/"
        },
        "id": "9BpCDOr-8Tnx",
        "outputId": "b17f813b-1c6f-41cc-bb40-c7639c76d390"
      },
      "execution_count": 14,
      "outputs": [
        {
          "output_type": "stream",
          "name": "stdout",
          "text": [
            "10\n"
          ]
        }
      ]
    }
  ]
}