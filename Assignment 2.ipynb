{
  "nbformat": 4,
  "nbformat_minor": 0,
  "metadata": {
    "colab": {
      "provenance": []
    },
    "kernelspec": {
      "name": "python3",
      "display_name": "Python 3"
    },
    "language_info": {
      "name": "python"
    }
  },
  "cells": [
    {
      "cell_type": "markdown",
      "source": [
        "\n",
        "1: Create a List L that is defined as= [10, 20, 30, 40, 50, 60, 70, 80]. i. WAP to add 200 and 300 to L. ii. WAP to remove 10 and 30 from L. iii. WAP to sort L in ascending order. iv. WAP to sort L in descending order.\n",
        "\n",
        "\n",
        "> Add blockquote\n",
        "\n"
      ],
      "metadata": {
        "id": "VuJn6cd_7Gum"
      }
    },
    {
      "cell_type": "code",
      "execution_count": 2,
      "metadata": {
        "colab": {
          "base_uri": "https://localhost:8080/"
        },
        "id": "1PqzRtMV7Ds8",
        "outputId": "6cb7d0ae-8f44-4b83-e9b5-4a1e784eaa87"
      },
      "outputs": [
        {
          "output_type": "stream",
          "name": "stdout",
          "text": [
            "[10, 20, 30, 40, 50, 60, 70, 80, 200, 300]\n",
            "[10, 30, 40, 50, 70, 80, 200, 300]\n",
            "[10, 30, 40, 50, 70, 80, 200, 300]\n",
            "[300, 200, 80, 70, 50, 40, 30, 10]\n"
          ]
        }
      ],
      "source": [
        "list1 = [10, 20, 30, 40, 50, 60, 70, 80]\n",
        "list1.extend([200,300])\n",
        "print(list1)\n",
        "list1.remove(20)\n",
        "list1.remove(60)\n",
        "print(list1)\n",
        "list1.sort()\n",
        "print(list1)\n",
        "list1.sort(reverse=True)\n",
        "print(list1)\n"
      ]
    },
    {
      "cell_type": "markdown",
      "source": [
        "2: Create a tuple of marks scored as scores = (45, 89.5, 76, 45.4, 89, 92, 58, 45) and perform the following operations using tuple functions: i. Identify the highest score and its index in the tuple. ii. Find the lowest score and count how many times it appears. iii. Reverse the tuple and return it as a list. iv. Check if a specific score ‘76’ (input by the user) is present in the tuple and print its first occurrence index, or a message saying it’s not present.\n",
        "\n"
      ],
      "metadata": {
        "id": "Kg12-B-b7i5S"
      }
    },
    {
      "cell_type": "code",
      "source": [
        "\n",
        "scores = (45, 89.5, 76, 45.4, 89, 92, 58, 45)\n",
        "print(max(scores))\n",
        "print(scores.index(max(scores)))\n",
        "print(min(scores))\n",
        "print(scores.count(max(scores)))\n",
        "tupleToList = list(scores[::-1])\n",
        "print(f\"{tupleToList}\")\n",
        "val = 76\n",
        "try:\n",
        "    print(f\"The first occurrence of score {val} is at index {scores.index(val)}.\")\n",
        "except ValueError:\n",
        "    print(f\"Score {val} is not present in the tuple.\")\n",
        "\n"
      ],
      "metadata": {
        "colab": {
          "base_uri": "https://localhost:8080/"
        },
        "id": "MoCi9N8O7lzE",
        "outputId": "3fd5b73e-5e72-4dcb-be5b-c8634bf37394"
      },
      "execution_count": 3,
      "outputs": [
        {
          "output_type": "stream",
          "name": "stdout",
          "text": [
            "92\n",
            "5\n",
            "45\n",
            "1\n",
            "[45, 58, 92, 89, 45.4, 76, 89.5, 45]\n",
            "The first occurrence of score 76 is at index 2.\n"
          ]
        }
      ]
    },
    {
      "cell_type": "markdown",
      "source": [
        "3: WAP to create a list of 100 random numbers between 100 and 900. Count and print the: i. All odd numbers ii. All even numbers iii. All prime numbers\n",
        "\n"
      ],
      "metadata": {
        "id": "98JUgsqu7plb"
      }
    },
    {
      "cell_type": "code",
      "source": [
        "import random\n",
        "listX = [random.randint(100,900) for _ in range(100)]\n",
        "print(\"List :\",listX)\n",
        "evenNum = [x for x in listX if x%2==0]\n",
        "print(\"Even Num:\", evenNum)\n",
        "oddNum = [x for x in listX if not x%2==0]\n",
        "print(\"Odd Num:\",oddNum)\n",
        "primeNum = [x for x in listX if all(i%x!=0 for i in range(2,int(x**0.5)+1))]\n",
        "print(\"Prime Num:\",primeNum)\n"
      ],
      "metadata": {
        "colab": {
          "base_uri": "https://localhost:8080/"
        },
        "id": "e-0X46577r-T",
        "outputId": "9ff4b626-ce0f-44c3-af46-072855f93453"
      },
      "execution_count": 4,
      "outputs": [
        {
          "output_type": "stream",
          "name": "stdout",
          "text": [
            "List : [332, 624, 570, 299, 378, 587, 167, 351, 820, 403, 835, 696, 759, 318, 269, 714, 102, 308, 838, 582, 515, 504, 375, 492, 856, 772, 581, 762, 800, 343, 351, 570, 288, 798, 495, 258, 868, 294, 771, 802, 354, 472, 425, 453, 520, 328, 195, 750, 109, 790, 701, 700, 487, 853, 476, 548, 197, 284, 785, 341, 297, 342, 717, 287, 306, 769, 516, 269, 844, 777, 758, 632, 473, 404, 283, 809, 637, 435, 353, 599, 642, 811, 652, 316, 450, 241, 687, 285, 807, 813, 807, 113, 191, 237, 711, 305, 514, 300, 643, 749]\n",
            "Even Num: [332, 624, 570, 378, 820, 696, 318, 714, 102, 308, 838, 582, 504, 492, 856, 772, 762, 800, 570, 288, 798, 258, 868, 294, 802, 354, 472, 520, 328, 750, 790, 700, 476, 548, 284, 342, 306, 516, 844, 758, 632, 404, 642, 652, 316, 450, 514, 300]\n",
            "Odd Num: [299, 587, 167, 351, 403, 835, 759, 269, 515, 375, 581, 343, 351, 495, 771, 425, 453, 195, 109, 701, 487, 853, 197, 785, 341, 297, 717, 287, 769, 269, 777, 473, 283, 809, 637, 435, 353, 599, 811, 241, 687, 285, 807, 813, 807, 113, 191, 237, 711, 305, 643, 749]\n",
            "Prime Num: [332, 624, 570, 299, 378, 587, 167, 351, 820, 403, 835, 696, 759, 318, 269, 714, 102, 308, 838, 582, 515, 504, 375, 492, 856, 772, 581, 762, 800, 343, 351, 570, 288, 798, 495, 258, 868, 294, 771, 802, 354, 472, 425, 453, 520, 328, 195, 750, 109, 790, 701, 700, 487, 853, 476, 548, 197, 284, 785, 341, 297, 342, 717, 287, 306, 769, 516, 269, 844, 777, 758, 632, 473, 404, 283, 809, 637, 435, 353, 599, 642, 811, 652, 316, 450, 241, 687, 285, 807, 813, 807, 113, 191, 237, 711, 305, 514, 300, 643, 749]\n"
          ]
        }
      ]
    },
    {
      "cell_type": "markdown",
      "source": [
        "4: Consider the following two sets, A and B, representing scores of two teams in multiple matches. A = {34, 56, 78, 90} and B = {78, 45, 90, 23} WAP to perform the following operations using set funcƟons: i. Find the unique scores achieved by both teams (union of sets). ii. Identify the scores that are common to both teams (intersection of sets). iii. Find the scores that are exclusive to each team (symmetric difference). iv. Check if the scores of team A are a subset of team B, and if team B's scores are a superset of team A. v. Remove a specific score X (input by the user) from set A if it exists. If not, print a message saying it is not present.\n",
        "\n"
      ],
      "metadata": {
        "id": "EQC7LiNW7wbK"
      }
    },
    {
      "cell_type": "code",
      "source": [
        "A = {34, 56, 78, 90}\n",
        "B = {78, 45, 90, 23}\n",
        "print(A|B)\n",
        "print(A&B)\n",
        "print(A.symmetric_difference(B))\n",
        "\n",
        "print(f\"The scores of team A are a subset of team B: {A.issubset(B)}\")\n",
        "print(f\"team B's scores are a superset of team A: {B.issuperset(A)}\")\n",
        "\n",
        "user_in = int(input(\"Enter a score: \"))\n",
        "# Try to remove the score from A\n",
        "if user_in in A:\n",
        "    A.remove(user_in)\n",
        "    print(f\"Score {user_in} removed.\")\n",
        "else:\n",
        "    print(f\"Score {user_in} not present in team A.\")\n"
      ],
      "metadata": {
        "colab": {
          "base_uri": "https://localhost:8080/"
        },
        "id": "gWqURdxI7zyB",
        "outputId": "433da242-a473-4c85-e7a9-deea291a77d7"
      },
      "execution_count": 5,
      "outputs": [
        {
          "output_type": "stream",
          "name": "stdout",
          "text": [
            "{34, 45, 78, 23, 56, 90}\n",
            "{90, 78}\n",
            "{34, 45, 23, 56}\n",
            "The scores of team A are a subset of team B: False\n",
            "team B's scores are a superset of team A: False\n",
            "Enter a score: 20\n",
            "Score 20 not present in team A.\n"
          ]
        }
      ]
    },
    {
      "cell_type": "markdown",
      "source": [
        "*Qno 5*"
      ],
      "metadata": {
        "id": "tYn0VEcD76_I"
      }
    },
    {
      "cell_type": "code",
      "source": [
        "dict1 = {\n",
        "    'name':\"Vijayshree Vaibhav\",\n",
        "    'age' :20,\n",
        "    'salary' : 105200000,\n",
        "    'city': 'Dhanbad'\n",
        "}\n",
        "print(dict1)\n",
        "dict1['location'] = dict1.pop('city')\n",
        "print(dict1)\n",
        "\n"
      ],
      "metadata": {
        "colab": {
          "base_uri": "https://localhost:8080/"
        },
        "id": "jUrhw4HG7_N0",
        "outputId": "8c11a4c7-1ffc-4f37-9ccd-7077e9673c8b"
      },
      "execution_count": 6,
      "outputs": [
        {
          "output_type": "stream",
          "name": "stdout",
          "text": [
            "{'name': 'Vijayshree Vaibhav', 'age': 20, 'salary': 105200000, 'city': 'Dhanbad'}\n",
            "{'name': 'Vijayshree Vaibhav', 'age': 20, 'salary': 105200000, 'location': 'Dhanbad'}\n"
          ]
        }
      ]
    }
  ]
}